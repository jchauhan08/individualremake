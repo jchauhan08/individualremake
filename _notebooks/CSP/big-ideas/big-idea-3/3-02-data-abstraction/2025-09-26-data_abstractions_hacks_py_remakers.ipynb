{
 "cells": [
  {
   "cell_type": "code",
   "execution_count": null,
   "id": "ca7c3f46",
   "metadata": {},
   "outputs": [],
   "source": [
    "---\n",
    "toc: true\n",
    "comments: false\n",
    "layout: post\n",
    "categories: [CSP Big Idea 3]\n",
    "title: 3.2 Data Abstractions Python Hack\n",
    "author: Jaynee Chauhan, Michelle Ji, Lucas Masterson\n",
    "description: Hack(s) for intro to data abstractions in Python.\n",
    "type: ccc\n",
    "permalink: /csp/big-idea-3/data-abstractions/p4/hacks-py\n",
    "---"
   ]
  },
  {
   "cell_type": "markdown",
   "id": "14d2f5f9",
   "metadata": {},
   "source": [
    "## Python Lab: Simple DBs\n",
    "\n",
    "In this lab, you'll be working on a simple \"database\" system consisting of dictionaries. The idea here is to understand some basic CRUD actions and how you can use data abstractions (dictionaries in this case) to represent redundant, similar data under a unified structure.\n",
    "\n",
    "You'll have to do some research about some Python syntax for this!\n",
    "\n",
    "You can complete the Python lab by simply running your code and getting your outputs in the Jupyter notebook."
   ]
  },
  {
   "cell_type": "code",
   "execution_count": 1,
   "id": "04367227",
   "metadata": {},
   "outputs": [
    {
     "name": "stdout",
     "output_type": "stream",
     "text": [
      "\n",
      "All records in the list:\n",
      "Index 0: {'name': 'Alice', 'age': 16, 'grade': 'A'}\n",
      "Index 1: {'name': 'Bob', 'age': 17, 'grade': 'B'}\n",
      "Index 2: {'name': 'Charlie', 'age': 16, 'grade': 'C'}\n"
     ]
    }
   ],
   "source": [
    "# Our \"database\" is a list of dictionaries, each representing a record (e.g., a student)\n",
    "db = [\n",
    "    {\"name\": \"Alice\", \"age\": 16, \"grade\": \"A\"},\n",
    "    {\"name\": \"Bob\", \"age\": 17, \"grade\": \"B\"},\n",
    "    {\"name\": \"Charlie\", \"age\": 16, \"grade\": \"C\"}\n",
    "]\n",
    "\n",
    "# Function to display all records\n",
    "def display_db(database):\n",
    "    print(\"\\nAll records in the list:\")\n",
    "    for i, record in enumerate(database):\n",
    "        print(f\"Index {i}: {record}\")\n",
    "\n",
    "# Function to add a new record\n",
    "def add_record(database):\n",
    "    name = input(\"Enter student name: \")\n",
    "    age = int(input(\"Enter student age: \"))\n",
    "    grade = input(\"Enter student grade: \")\n",
    "    new_record = {\"name\": name, \"age\": age, \"grade\": grade}\n",
    "    database.append(new_record)\n",
    "    print(f\"✅ Record added: {new_record}\")\n",
    "\n",
    "# Function to find a record by name\n",
    "def find_record(database, search_name):\n",
    "    for record in database:\n",
    "        if record[\"name\"].lower() == search_name.lower():\n",
    "            print(f\"🔎 Found record: {record}\")\n",
    "            return record\n",
    "    print(\"❌ Record not found.\")\n",
    "    return None\n",
    "\n",
    "# Function to update a record\n",
    "def update_record(database, search_name):\n",
    "    for record in database:\n",
    "        if record[\"name\"].lower() == search_name.lower():\n",
    "            print(f\"Current record: {record}\")\n",
    "            record[\"age\"] = int(input(\"Enter new age: \"))\n",
    "            record[\"grade\"] = input(\"Enter new grade: \")\n",
    "            print(f\"✅ Record updated: {record}\")\n",
    "            return\n",
    "    print(\"❌ Record not found.\")\n",
    "\n",
    "# Function to delete a record\n",
    "def delete_record(database, search_name):\n",
    "    for record in database:\n",
    "        if record[\"name\"].lower() == search_name.lower():\n",
    "            database.remove(record)\n",
    "            print(f\"🗑️ Record deleted: {search_name}\")\n",
    "            return\n",
    "    print(\"❌ Record not found.\")\n",
    "\n",
    "# Example usage\n",
    "display_db(db)\n",
    "# Uncomment the following lines to test interactively:\n",
    "# add_record(db)\n",
    "# find_record(db, \"Alice\")\n",
    "# update_record(db, \"Bob\")\n",
    "# delete_record(db, \"Charlie\")\n",
    "# display_db(db)\n"
   ]
  }
 ],
 "metadata": {
  "kernelspec": {
   "display_name": "Python 3",
   "language": "python",
   "name": "python3"
  },
  "language_info": {
   "codemirror_mode": {
    "name": "ipython",
    "version": 3
   },
   "file_extension": ".py",
   "mimetype": "text/x-python",
   "name": "python",
   "nbconvert_exporter": "python",
   "pygments_lexer": "ipython3",
   "version": "3.11.9"
  }
 },
 "nbformat": 4,
 "nbformat_minor": 5
}
