{
 "cells": [
  {
   "cell_type": "raw",
   "id": "e4102f0e",
   "metadata": {
    "vscode": {
     "languageId": "raw"
    }
   },
   "source": [
    "---\n",
    "toc: true\n",
    "comments: false\n",
    "layout: post\n",
    "categories: [CSP Big Idea 3]\n",
    "title: 3.2 Data Abstractions JS Hack\n",
    "author: Jaynee Chauhan, Michelle Ji, Lucas Masterson\n",
    "description: Hack(s) for intro to data abstractions in JS.\n",
    "type: ccc\n",
    "permalink: /csp/big-idea-3/data-abstractions/p4/hacks-js\n",
    "---"
   ]
  },
  {
   "cell_type": "markdown",
   "id": "690b4172",
   "metadata": {},
   "source": [
    "## JS Lab: Library\n",
    "\n",
    "In this lab, similarly to the Python lab, you'll be working on a simple \"database\" for a library to understand CRUD operations in relation to representing redundant, similar data under one structure -- an abstraction.\n",
    "\n",
    "For JavaScript, you'll have to open the web console from Developer Tools (`ctrl + shift + p` -> `Developer: Toggle developer tools`)."
   ]
  },
  {
   "cell_type": "code",
   "execution_count": 3,
   "id": "d7228dda",
   "metadata": {
    "vscode": {
     "languageId": "javascript"
    }
   },
   "outputs": [
    {
     "data": {
      "application/javascript": "// Our \"database\" is an array of objects, each representing a book in a library.\nlet library = [\n    { title: \"1984\", author: \"George Orwell\", checkedOut: false },\n    { title: \"To Kill a Mockingbird\", author: \"Harper Lee\", checkedOut: true },\n    { title: \"The Great Gatsby\", author: \"F. Scott Fitzgerald\", checkedOut: false }\n];\n\n// Function to display all books\nfunction displayLibrary(lib) {\n    console.log(\"\\nAll books in the library:\");\n    lib.forEach((book, i) => {\n        console.log(`Index ${i}:`, book);\n    });\n}\n\n// Function to add a new book\nfunction addBook(lib) {\n    let title = prompt(\"Enter book title:\");\n    let author = prompt(\"Enter author:\");\n    let checkedOut = prompt(\"Is the book checked out? (yes/no):\").toLowerCase() === \"yes\";\n\n    let newBook = { title, author, checkedOut };\n    lib.push(newBook);\n    console.log(\"✅ Book added:\", newBook);\n}\n\n// Function to find a book by title\nfunction findBook(lib, searchTitle) {\n    let book = lib.find(b => b.title.toLowerCase() === searchTitle.toLowerCase());\n    if (book) {\n        console.log(\"🔎 Found book:\", book);\n        return book;\n    } else {\n        console.log(\"❌ Book not found.\");\n        return null;\n    }\n}\n\n// Function to update a book's checkedOut status\nfunction updateBook(lib, searchTitle) {\n    let book = lib.find(b => b.title.toLowerCase() === searchTitle.toLowerCase());\n    if (book) {\n        let newStatus = prompt(\"Is the book checked out? (yes/no):\").toLowerCase() === \"yes\";\n        book.checkedOut = newStatus;\n        console.log(\"✅ Book updated:\", book);\n    } else {\n        console.log(\"❌ Book not found.\");\n    }\n}\n\n// Function to delete a book\nfunction deleteBook(lib, searchTitle) {\n    let index = lib.findIndex(b => b.title.toLowerCase() === searchTitle.toLowerCase());\n    if (index !== -1) {\n        let removed = lib.splice(index, 1);\n        console.log(\"🗑️ Book deleted:\", removed[0]);\n    } else {\n        console.log(\"❌ Book not found.\");\n    }\n}\n\n// Example usage\ndisplayLibrary(library);\n// Uncomment these when running in a browser environment where prompt() works:\n// addBook(library);\n// findBook(library, \"1984\");\n// updateBook(library, \"To Kill a Mockingbird\");\n// deleteBook(library, \"The Great Gatsby\");\n",
      "text/plain": [
       "<IPython.core.display.Javascript object>"
      ]
     },
     "metadata": {},
     "output_type": "display_data"
    }
   ],
   "source": [
    "%%js\n",
    "// Our \"database\" is an array of objects, each representing a book in a library.\n",
    "let library = [\n",
    "    { title: \"1984\", author: \"George Orwell\", checkedOut: false },\n",
    "    { title: \"To Kill a Mockingbird\", author: \"Harper Lee\", checkedOut: true },\n",
    "    { title: \"The Great Gatsby\", author: \"F. Scott Fitzgerald\", checkedOut: false }\n",
    "];\n",
    "\n",
    "// Function to display all books\n",
    "function displayLibrary(lib) {\n",
    "    console.log(\"\\nAll books in the library:\");\n",
    "    lib.forEach((book, i) => {\n",
    "        console.log(`Index ${i}:`, book);\n",
    "    });\n",
    "}\n",
    "\n",
    "// Function to add a new book\n",
    "function addBook(lib) {\n",
    "    let title = prompt(\"Enter book title:\");\n",
    "    let author = prompt(\"Enter author:\");\n",
    "    let checkedOut = prompt(\"Is the book checked out? (yes/no):\").toLowerCase() === \"yes\";\n",
    "    \n",
    "    let newBook = { title, author, checkedOut };\n",
    "    lib.push(newBook);\n",
    "    console.log(\"✅ Book added:\", newBook);\n",
    "}\n",
    "\n",
    "// Function to find a book by title\n",
    "function findBook(lib, searchTitle) {\n",
    "    let book = lib.find(b => b.title.toLowerCase() === searchTitle.toLowerCase());\n",
    "    if (book) {\n",
    "        console.log(\"🔎 Found book:\", book);\n",
    "        return book;\n",
    "    } else {\n",
    "        console.log(\"❌ Book not found.\");\n",
    "        return null;\n",
    "    }\n",
    "}\n",
    "\n",
    "// Function to update a book's checkedOut status\n",
    "function updateBook(lib, searchTitle) {\n",
    "    let book = lib.find(b => b.title.toLowerCase() === searchTitle.toLowerCase());\n",
    "    if (book) {\n",
    "        let newStatus = prompt(\"Is the book checked out? (yes/no):\").toLowerCase() === \"yes\";\n",
    "        book.checkedOut = newStatus;\n",
    "        console.log(\"✅ Book updated:\", book);\n",
    "    } else {\n",
    "        console.log(\"❌ Book not found.\");\n",
    "    }\n",
    "}\n",
    "\n",
    "// Function to delete a book\n",
    "function deleteBook(lib, searchTitle) {\n",
    "    let index = lib.findIndex(b => b.title.toLowerCase() === searchTitle.toLowerCase());\n",
    "    if (index !== -1) {\n",
    "        let removed = lib.splice(index, 1);\n",
    "        console.log(\"🗑️ Book deleted:\", removed[0]);\n",
    "    } else {\n",
    "        console.log(\"❌ Book not found.\");\n",
    "    }\n",
    "}\n",
    "\n",
    "// Example usage\n",
    "displayLibrary(library);\n",
    "// Uncomment these when running in a browser environment where prompt() works:\n",
    "// addBook(library);\n",
    "// findBook(library, \"1984\");\n",
    "// updateBook(library, \"To Kill a Mockingbird\");\n",
    "// deleteBook(library, \"The Great Gatsby\");"
   ]
  }
 ],
 "metadata": {
  "kernelspec": {
   "display_name": "Python 3",
   "language": "python",
   "name": "python3"
  },
  "language_info": {
   "codemirror_mode": {
    "name": "ipython",
    "version": 3
   },
   "file_extension": ".py",
   "mimetype": "text/x-python",
   "name": "python",
   "nbconvert_exporter": "python",
   "pygments_lexer": "ipython3",
   "version": "3.11.9"
  }
 },
 "nbformat": 4,
 "nbformat_minor": 5
}
