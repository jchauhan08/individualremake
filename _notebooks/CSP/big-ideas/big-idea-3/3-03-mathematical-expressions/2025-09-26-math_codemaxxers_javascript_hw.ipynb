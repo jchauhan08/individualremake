{
 "cells": [
  {
   "cell_type": "raw",
   "id": "6290bcd2",
   "metadata": {
    "vscode": {
     "languageId": "raw"
    }
   },
   "source": [
    "---\n",
    "title: \"Mathematical Operations in Javascript and Python - Hacks\"\n",
    "description: \"Apply your skills of math, logic, and coding.\"\n",
    "layout: post\n",
    "permalink: /javascript/mathematical-expressions/codemaxxers-hw\n",
    "---"
   ]
  },
  {
   "cell_type": "markdown",
   "id": "d98b569e",
   "metadata": {},
   "source": [
    "# Basic Algebraic Math hacks\n",
    "\n",
    "## Q1 (Exponents):\n",
    "### A cube has a side length of 6 units. What is its volume?"
   ]
  },
  {
   "cell_type": "code",
   "execution_count": 13,
   "id": "235ceb13",
   "metadata": {
    "vscode": {
     "languageId": "javascript"
    }
   },
   "outputs": [
    {
     "data": {
      "application/javascript": "let side = 6;\nlet volume = side ** 3;\nconsole.log(\"The volume of the cube is: \" + volume);\n",
      "text/plain": [
       "<IPython.core.display.Javascript object>"
      ]
     },
     "metadata": {},
     "output_type": "display_data"
    }
   ],
   "source": [
    "%%js \n",
    "let side = 6;\n",
    "let volume = side ** 3;\n",
    "console.log(\"The volume of the cube is: \" + volume);\n"
   ]
  },
  {
   "cell_type": "markdown",
   "id": "3fb1dd4d",
   "metadata": {},
   "source": [
    "## Q2 (PEMDAS):\n",
    "### Evaluate the expression: \n",
    "\n",
    "(7+14)*5/12 + 2"
   ]
  },
  {
   "cell_type": "code",
   "execution_count": 14,
   "id": "49d712a3",
   "metadata": {
    "vscode": {
     "languageId": "javascript"
    }
   },
   "outputs": [
    {
     "data": {
      "application/javascript": "public class Main {\n    public static void main(String[] args) {\n        System.out.println((7 + 14) * 5.0 / 12 + 2);\n    }\n}\n",
      "text/plain": [
       "<IPython.core.display.Javascript object>"
      ]
     },
     "metadata": {},
     "output_type": "display_data"
    }
   ],
   "source": [
    "%%js \n",
    "public class Main {\n",
    "    public static void main(String[] args) {\n",
    "        System.out.println((7 + 14) * 5.0 / 12 + 2);\n",
    "    }\n",
    "}"
   ]
  },
  {
   "cell_type": "markdown",
   "id": "fcaa4762",
   "metadata": {},
   "source": [
    "## Q3 (Algorithm): \n",
    "\n",
    "Write JavaScript  code where you define variables and run commands that find the values of operations you apply onto them"
   ]
  },
  {
   "cell_type": "code",
   "execution_count": 15,
   "id": "0a2081a9",
   "metadata": {
    "vscode": {
     "languageId": "javascript"
    }
   },
   "outputs": [
    {
     "data": {
      "application/javascript": "// Define the numbers\nlet a = 7;\nlet b = 14;\nlet c = 5;\nlet d = 12;\nlet e = 2;\n\n// Step 1: Add 7 + 14\nlet sum = a + b;\n\n// Step 2: Multiply the sum by 5\nlet multiply = sum * c;\n\n// Step 3: Divide the result by 12\nlet divide = multiply / d;\n\n// Step 4: Add 2\nlet result = divide + e;\n\n// Print the result\nconsole.log(\"The final result is: \" + result);\n",
      "text/plain": [
       "<IPython.core.display.Javascript object>"
      ]
     },
     "metadata": {},
     "output_type": "display_data"
    }
   ],
   "source": [
    "%%js\n",
    "// Define the numbers\n",
    "let a = 7;\n",
    "let b = 14;\n",
    "let c = 5;\n",
    "let d = 12;\n",
    "let e = 2;\n",
    "\n",
    "// Step 1: Add 7 + 14\n",
    "let sum = a + b;\n",
    "\n",
    "// Step 2: Multiply the sum by 5\n",
    "let multiply = sum * c;\n",
    "\n",
    "// Step 3: Divide the result by 12\n",
    "let divide = multiply / d;\n",
    "\n",
    "// Step 4: Add 2\n",
    "let result = divide + e;\n",
    "\n",
    "// Print the result\n",
    "console.log(\"The final result is: \" + result);\n"
   ]
  },
  {
   "cell_type": "markdown",
   "id": "7927eeac",
   "metadata": {},
   "source": [
    "<img src=\"/images/3_3diagram.png\" alt=\"Diagram showing mathematical operations\" style=\"max-width:300px; margin:10px;\">\n"
   ]
  }
 ],
 "metadata": {
  "kernelspec": {
   "display_name": "Python 3",
   "language": "python",
   "name": "python3"
  },
  "language_info": {
   "codemirror_mode": {
    "name": "ipython",
    "version": 3
   },
   "file_extension": ".py",
   "mimetype": "text/x-python",
   "name": "python",
   "nbconvert_exporter": "python",
   "pygments_lexer": "ipython3",
   "version": "3.11.9"
  }
 },
 "nbformat": 4,
 "nbformat_minor": 5
}
